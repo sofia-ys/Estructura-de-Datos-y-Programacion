{
  "nbformat": 4,
  "nbformat_minor": 0,
  "metadata": {
    "colab": {
      "provenance": [],
      "include_colab_link": true
    },
    "kernelspec": {
      "name": "python3",
      "display_name": "Python 3"
    },
    "language_info": {
      "name": "python"
    }
  },
  "cells": [
    {
      "cell_type": "markdown",
      "metadata": {
        "id": "view-in-github",
        "colab_type": "text"
      },
      "source": [
        "<a href=\"https://colab.research.google.com/github/sofia-ys/Estructura-de-Datos-y-Programacion/blob/main/Desafio_2.ipynb\" target=\"_parent\"><img src=\"https://colab.research.google.com/assets/colab-badge.svg\" alt=\"Open In Colab\"/></a>"
      ]
    },
    {
      "cell_type": "markdown",
      "source": [
        "# Desafio 2\n",
        "Amedeo Sandrucci - Sofia Marie Yanes Sanchez - Daniëlle Berghege\n",
        "\n",
        "31/08/2025\n",
        "\n"
      ],
      "metadata": {
        "id": "4-l3RyV9et40"
      }
    },
    {
      "cell_type": "code",
      "source": [
        "def possible_words(string):\n",
        "  vocales = [\"a\", \"i\", \"u\", \"e\", \"o\"]  # defining vowels\n",
        "\n",
        "  Stuart_words = []  # initialising lists\n",
        "  Kevin_words = []\n",
        "\n",
        "  words = string.strip().split()  # if multiple words are entered we process them one by one\n",
        "\n",
        "  for string in words:\n",
        "    for i, ch in enumerate(string):  # tomamos cada ch en la palabra processed by the .split() y le damos un index i de referencia\n",
        "      if ch in vocales:  # si comienza con una vocal\n",
        "        for j in range(i + 1, len(string) + 1):  # desde la posicion de la letra que estamos analizando (i+1) hasta el final del string (len(string) + 1)\n",
        "          Kevin_words.append(string[i:j])  # anadimos todas las posibles combinaciones (banana --> b, ba, ban, ...)\n",
        "      elif ch not in vocales:  # si no comienza con una vocal\n",
        "        for k in range(i + 1, len(string) + 1):\n",
        "          Stuart_words.append(string[i:k])\n",
        "  return Stuart_words, Kevin_words"
      ],
      "metadata": {
        "id": "1_vyw4v9etIS"
      },
      "execution_count": null,
      "outputs": []
    },
    {
      "cell_type": "code",
      "source": [
        "S = input(\"Palabra: \").strip()  # user input de la palabra pal juego\n",
        "Stuart_words, Kevin_words = possible_words(S)  # encontrando las combinaciones de cada uno x"
      ],
      "metadata": {
        "colab": {
          "base_uri": "https://localhost:8080/"
        },
        "id": "ujRSiYT9L6Yi",
        "outputId": "dfd60a9c-b7d7-4c14-b619-3808296b6172"
      },
      "execution_count": null,
      "outputs": [
        {
          "name": "stdout",
          "output_type": "stream",
          "text": [
            "Palabra: banana\n"
          ]
        }
      ]
    },
    {
      "cell_type": "code",
      "source": [
        "if len(Stuart_words) > len(Kevin_words):\n",
        "  print(f\"Winner: Stuart with {len(Stuart_words)} points\")\n",
        "elif len(Kevin_words) > len(Stuart_words):\n",
        "  print(f\"Winner: Kevin with {len(Kevin_words)} points\")\n",
        "else:\n",
        "  print(f\"Both players tied with {len(Kevin_words)} points!\")"
      ],
      "metadata": {
        "colab": {
          "base_uri": "https://localhost:8080/"
        },
        "id": "COMeUpAZHomK",
        "outputId": "125a578c-52ac-4d87-dc9a-e54bad239bba"
      },
      "execution_count": null,
      "outputs": [
        {
          "output_type": "stream",
          "name": "stdout",
          "text": [
            "Winner: Stuart with 12 points\n"
          ]
        }
      ]
    }
  ]
}