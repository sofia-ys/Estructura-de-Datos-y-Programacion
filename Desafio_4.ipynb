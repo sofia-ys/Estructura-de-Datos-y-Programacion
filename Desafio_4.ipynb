{
  "nbformat": 4,
  "nbformat_minor": 0,
  "metadata": {
    "colab": {
      "provenance": [],
      "include_colab_link": true
    },
    "kernelspec": {
      "name": "python3",
      "display_name": "Python 3"
    },
    "language_info": {
      "name": "python"
    }
  },
  "cells": [
    {
      "cell_type": "markdown",
      "metadata": {
        "id": "view-in-github",
        "colab_type": "text"
      },
      "source": [
        "<a href=\"https://colab.research.google.com/github/sofia-ys/Estructura-de-Datos-y-Programacion/blob/main/Desafio_4.ipynb\" target=\"_parent\"><img src=\"https://colab.research.google.com/assets/colab-badge.svg\" alt=\"Open In Colab\"/></a>"
      ]
    },
    {
      "cell_type": "markdown",
      "source": [
        "***DESAFIO 4***"
      ],
      "metadata": {
        "id": "E2IkV-2brhCq"
      }
    },
    {
      "cell_type": "code",
      "source": [
        "import matplotlib.pyplot as plt\n",
        "import random\n",
        "import numpy as np\n",
        "from collections import deque\n",
        "import math\n",
        "random.seed(12)\n"
      ],
      "metadata": {
        "id": "2JY4F_lRL2Ru"
      },
      "execution_count": null,
      "outputs": []
    },
    {
      "cell_type": "markdown",
      "source": [
        "**Nivel 1 – Laberinto como matriz (camino = 0, pared = 1) // Level 1 – Maze as a Matrix (path = 0, wall = 1)**\n"
      ],
      "metadata": {
        "id": "4gQcoIaSpCGy"
      }
    },
    {
      "cell_type": "markdown",
      "source": [
        "Consigna 1 – Búsqueda en profundidad (DFS) // Task 1 – Depth-First Search (DFS)"
      ],
      "metadata": {
        "id": "XUdxUbT8pdfd"
      }
    },
    {
      "cell_type": "code",
      "execution_count": null,
      "metadata": {
        "id": "d69YxvVOqtEV"
      },
      "outputs": [],
      "source": [
        " def consigna_1(maze,start,goal):\n",
        "    rows, cols = len(maze), len(maze[0])\n",
        "    visited = set()\n",
        "    path = []\n",
        "    directions = [(-1,0), (1,0), (0,-1), (0,1)] # Directions: up, down, left, right\n",
        "\n",
        "    def dfs(x, y):\n",
        "        # Base cases\n",
        "        if (x, y) == goal:\n",
        "            path.append((x, y))\n",
        "            return True\n",
        "        if (x, y) in visited:\n",
        "            return False\n",
        "\n",
        "        visited.add((x, y))\n",
        "        path.append((x, y))\n",
        "\n",
        "        for dx, dy in directions: #Explore possible moves\n",
        "            nx, ny = x + dx, y + dy\n",
        "            # Stay inside the maze and avoid walls\n",
        "            if 0 <= nx < rows and 0 <= ny < cols and maze[nx][ny] == 0:\n",
        "                if dfs(nx, ny):\n",
        "                    return True\n",
        "\n",
        "        path.pop() #Dead end? > undo last move and try again\n",
        "        return False\n",
        "\n",
        "    found = dfs(*start)\n",
        "    return path if found else None\n"
      ]
    },
    {
      "cell_type": "markdown",
      "source": [
        "Consigna 2 – Búsqueda en anchura (BFS) // Task 2 – Breadth-First Search (BFS)"
      ],
      "metadata": {
        "id": "cpgcl7HQpzY2"
      }
    },
    {
      "cell_type": "code",
      "source": [
        "def consigna_2(maze, start, goal):\n",
        "    rows, cols = len(maze), len(maze[0])\n",
        "    parents = {start: None}\n",
        "    directions = [(-1, 0), (1, 0), (0, -1), (0, 1)]\n",
        "    frontier = deque([start])\n",
        "\n",
        "    while frontier:\n",
        "        x, y = frontier.popleft()\n",
        "\n",
        "        # Reconstruct path if goal is found\n",
        "        if (x, y) == goal:\n",
        "            path = []\n",
        "            while (x, y) is not None:\n",
        "                path.append((x, y))\n",
        "                parent = parents[(x, y)]\n",
        "                if parent is None:\n",
        "                    break\n",
        "                x, y = parent\n",
        "            return list(reversed(path))\n",
        "\n",
        "        # Mark visited\n",
        "        maze[x][y] = 2\n",
        "\n",
        "        # Explore neighbors\n",
        "        for dx, dy in directions:\n",
        "            nx, ny = x + dx, y + dy\n",
        "            if 0 <= nx < rows and 0 <= ny < cols and maze[nx][ny] == 0:\n",
        "                parents[(nx, ny)] = (x, y)\n",
        "                frontier.append((nx, ny))\n",
        "                maze[nx][ny] = 2\n",
        "\n",
        "    return None\n"
      ],
      "metadata": {
        "id": "TYg0QZj8pyzR"
      },
      "execution_count": null,
      "outputs": []
    },
    {
      "cell_type": "markdown",
      "source": [
        "**Nivel 2 – Algoritmos clásicos y heurísticos // Level 2 – Classical and Heuristic Algorithms**"
      ],
      "metadata": {
        "id": "chR8QJXVp-qq"
      }
    },
    {
      "cell_type": "markdown",
      "source": [
        "Consigna 3 – Algoritmo de Dijkstra // Task 3 – Dijkstra’s Algorithm\n"
      ],
      "metadata": {
        "id": "MPcxZiigqETQ"
      }
    },
    {
      "cell_type": "code",
      "source": [
        "def consigna_3(maze, start, goal):\n",
        "    rows, cols = len(maze), len(maze[0])\n",
        "    directions = [(-1, 0), (1, 0), (0, -1), (0, 1)] # Directions: up, down, left, right\n",
        "\n",
        "    #Randomly assign terrain difficulty to walkable cells; 0 = easy path, 2 = mud, 3 = rocks, 1 = wall\n",
        "    for i in range(rows):\n",
        "        for j in range(cols):\n",
        "            if maze[i][j] == 0:\n",
        "                maze[i][j] = random.choices([0, 2, 3], weights=[0.7, 0.2, 0.1])[0] # Randomly choose terrain type\n",
        "\n",
        "    #Define movement costs for each terrain type\n",
        "    terrain_costs = {\n",
        "        0: 1,            # easy path\n",
        "        2: 3,            # mud\n",
        "        3: 5,            # rocks\n",
        "        1: float('inf')  # wall (impassable)\n",
        "    }\n",
        "\n",
        "    #Initialize Dijkstra structures\n",
        "    dist = {(i, j): float('inf') for i in range(rows) for j in range(cols)}\n",
        "    parent = {start: None}\n",
        "    visited = set()\n",
        "\n",
        "    dist[start] = terrain_costs[maze[start[0]][start[1]]]\n",
        "\n",
        "    #Dijkstra's algorithm\n",
        "    while True:\n",
        "        # Pick unvisited node with smallest distance\n",
        "        min_node = None\n",
        "        min_dist = float('inf')\n",
        "        for node, d in dist.items():\n",
        "            if node not in visited and d < min_dist:\n",
        "                min_node = node\n",
        "                min_dist = d\n",
        "\n",
        "        if min_node is None:\n",
        "            break  # all reachable nodes visited\n",
        "\n",
        "        x, y = min_node\n",
        "        visited.add(min_node)\n",
        "\n",
        "        if min_node == goal:\n",
        "            # reconstruct path\n",
        "            path = []\n",
        "            while min_node is not None:\n",
        "                path.append(min_node)\n",
        "                min_node = parent[min_node]\n",
        "            path.reverse()\n",
        "            return path\n",
        "\n",
        "        # explore neighbors\n",
        "        for dx, dy in directions:\n",
        "            nx, ny = x + dx, y + dy\n",
        "            if 0 <= nx < rows and 0 <= ny < cols:\n",
        "                cost = terrain_costs[maze[nx][ny]]\n",
        "                if cost != float('inf'):  # skip walls\n",
        "                    new_cost = dist[(x, y)] + cost\n",
        "                    if new_cost < dist[(nx, ny)]:\n",
        "                        dist[(nx, ny)] = new_cost\n",
        "                        parent[(nx, ny)] = (x, y)\n",
        "\n",
        "    return None\n"
      ],
      "metadata": {
        "id": "17SESBC0qHz2"
      },
      "execution_count": null,
      "outputs": []
    },
    {
      "cell_type": "markdown",
      "source": [
        "Consigna 4 – Algoritmo A* // Task 4 - Algorithm A*"
      ],
      "metadata": {
        "id": "7FKb2vUiqNOA"
      }
    },
    {
      "cell_type": "code",
      "source": [
        "def manhattan(a, b): #Heuristic function: Manhattan distance\n",
        "    return abs(a[0] - b[0]) + abs(a[1] - b[1])\n",
        "\n",
        "def consigna_4(maze, start, goal, use_heuristic=True):\n",
        "    rows, cols = len(maze), len(maze[0])\n",
        "    directions = [(-1, 0), (1, 0), (0, -1), (0, 1)] # Directions: up, down, left, right\n",
        "\n",
        "    # Movement costs per terrain (same idea as consigna_3)\n",
        "    terrain_costs = {\n",
        "        0: 1,            # easy path\n",
        "        2: 3,            # mud\n",
        "        3: 5,            # rocks\n",
        "        1: float('inf')  # wall\n",
        "    }\n",
        "\n",
        "    # Initialize data structures\n",
        "    g_cost = {(i, j): float('inf') for i in range(rows) for j in range(cols)}  # real cost\n",
        "    f_cost = {(i, j): float('inf') for i in range(rows) for j in range(cols)}  # estimated total cost (real cost _ algorithm)\n",
        "    parent = {start: None}\n",
        "    visited = set()\n",
        "\n",
        "    g_cost[start] = 0\n",
        "    f_cost[start] = manhattan(start, goal) if use_heuristic else 0\n",
        "\n",
        "    while True:\n",
        "        # Find unvisited node with smallest f_cost\n",
        "        current = None\n",
        "        lowest_f = float('inf')\n",
        "        for node in f_cost:\n",
        "            if node not in visited and f_cost[node] < lowest_f:\n",
        "                lowest_f = f_cost[node]\n",
        "                current = node\n",
        "\n",
        "        if current is None:  # no reachable node\n",
        "            break\n",
        "\n",
        "        x, y = current\n",
        "        visited.add(current)\n",
        "\n",
        "        # Stop if goal reached\n",
        "        if current == goal:\n",
        "            path = []\n",
        "            while current is not None:\n",
        "                path.append(current)\n",
        "                current = parent[current]\n",
        "            path.reverse()\n",
        "            return path\n",
        "\n",
        "        # Explore all directions\n",
        "        for dx, dy in directions:\n",
        "            nx, ny = x + dx, y + dy\n",
        "            if 0 <= nx < rows and 0 <= ny < cols:\n",
        "                cost = terrain_costs.get(maze[nx][ny], 1)\n",
        "                if cost == float('inf'):  # wall\n",
        "                    continue\n",
        "                tentative_g = g_cost[(x, y)] + cost\n",
        "                # Only update if we found a cheaper path\n",
        "                if tentative_g < g_cost[(nx, ny)]:\n",
        "                    g_cost[(nx, ny)] = tentative_g\n",
        "                    h = manhattan((nx, ny), goal) if use_heuristic else 0\n",
        "                    f_cost[(nx, ny)] = tentative_g + h\n",
        "                    parent[(nx, ny)] = (x, y)\n",
        "\n",
        "    return None\n"
      ],
      "metadata": {
        "id": "ZX_q10MqqV1U"
      },
      "execution_count": null,
      "outputs": []
    },
    {
      "cell_type": "markdown",
      "source": [
        "**Nivel 3 – Estrategias no óptimas // Level 3 - Non-optimal Strategies**\n"
      ],
      "metadata": {
        "id": "RNCcT02BqYZQ"
      }
    },
    {
      "cell_type": "markdown",
      "source": [
        "Consigna 5 – Algoritmo Wall-Follower // Task 5 - Wall-Follower Algorithm"
      ],
      "metadata": {
        "id": "HQBQUHQcqeVS"
      }
    },
    {
      "cell_type": "code",
      "source": [
        "def consigna_5(maze, start, goal, right_hand=False):\n",
        "    rows, cols = len(maze), len(maze[0])\n",
        "    directions = [(-1, 0), (0, 1), (1, 0), (0, -1)] # Moves: up, right, down, left\n",
        "\n",
        "    path = [start]\n",
        "    x, y = start\n",
        "    direction = 1\n",
        "\n",
        "    def turn_left(d):\n",
        "        return (d - 1) % 4\n",
        "    def turn_right(d):\n",
        "        return (d + 1) % 4\n",
        "\n",
        "    def in_bounds(a, b):\n",
        "        return 0 <= a < rows and 0 <= b < cols\n",
        "\n",
        "    visited_steps = 0\n",
        "    max_steps = rows * cols * 4  # safety cap\n",
        "\n",
        "    while (x, y) != goal and visited_steps < max_steps:\n",
        "        visited_steps += 1\n",
        "\n",
        "        # Choose which side to check first (right or left hand rule)\n",
        "        check_dir = turn_right(direction) if right_hand else turn_left(direction)\n",
        "        dx, dy = directions[check_dir]\n",
        "        nx, ny = x + dx, y + dy\n",
        "\n",
        "        if in_bounds(nx, ny) and maze[nx][ny] == 0: #If side cell is open, turn that way, move forward, add position to path\n",
        "            direction = check_dir\n",
        "            x, y = nx, ny\n",
        "            path.append((x, y))\n",
        "        else: # If side cell is blocked, try going straight\n",
        "            dx, dy = directions[direction]\n",
        "            nx, ny = x + dx, y + dy\n",
        "            if in_bounds(nx, ny) and maze[nx][ny] == 0:\n",
        "                x, y = nx, ny\n",
        "                path.append((x, y))\n",
        "            else: # Turn toward opposite wall side (keep hand on wall)\n",
        "                direction = turn_left(direction) if right_hand else turn_right(direction)\n",
        "\n",
        "    return path\n"
      ],
      "metadata": {
        "id": "X-lagn1wqmEM"
      },
      "execution_count": null,
      "outputs": []
    },
    {
      "cell_type": "markdown",
      "source": [
        "Consigna 6 – Backtracking (vuelta atrás) // Task 6 - Backtracking"
      ],
      "metadata": {
        "id": "kpg0p8HgqoUq"
      }
    },
    {
      "cell_type": "code",
      "source": [
        "def consigna_6(maze, start, goal):\n",
        "    rows,cols = len(maze), len(maze[0])\n",
        "    directions = [(-1,0), (1,0), (0,-1), (0,1)] #Directions: up, right, down, left\n",
        "\n",
        "    visited = []\n",
        "    for i in range(rows):\n",
        "        row_list = []\n",
        "        for j in range(cols):\n",
        "            row_list.append(False)\n",
        "        visited.append(row_list)\n",
        "\n",
        "    path = []\n",
        "    def backtrack(x, y):\n",
        "        # Base case: reached the goal\n",
        "        if (x, y) == goal:\n",
        "            path.append((x, y))\n",
        "            return True\n",
        "\n",
        "        # Mark the current cell as visited\n",
        "        visited[x][y] = True\n",
        "        path.append((x, y))\n",
        "\n",
        "        # Try all possible moves\n",
        "        for dx, dy in directions:\n",
        "            nx, ny = x + dx, y + dy\n",
        "            # Check boundaries and conditions\n",
        "            if nx >= 0 and nx < rows and ny >= 0 and ny < cols:\n",
        "                if maze[nx][ny] == 0 and not visited[nx][ny]:\n",
        "                    if backtrack(nx, ny):   # recursive call\n",
        "                        return True\n",
        "\n",
        "        # Dead end → go back\n",
        "        path.pop()\n",
        "        return False\n",
        "\n",
        "    # Start backtracking from the start cell\n",
        "    found = backtrack(start[0], start[1])\n",
        "\n",
        "    # Return result\n",
        "    if found:\n",
        "        return path\n",
        "    else:\n",
        "        return None"
      ],
      "metadata": {
        "id": "-4joplDyqysj"
      },
      "execution_count": null,
      "outputs": []
    },
    {
      "cell_type": "markdown",
      "source": [
        "**Nivel 4 – Extensiones visuales // Level 4 - Visual extensions**\n"
      ],
      "metadata": {
        "id": "oeqmR1pisKfZ"
      }
    },
    {
      "cell_type": "markdown",
      "source": [
        "Consigna 7 – Visualización con matplotlib // Task 7 - Visualization with matplotlib\n"
      ],
      "metadata": {
        "id": "jNZ561FksSFx"
      }
    },
    {
      "cell_type": "code",
      "source": [
        "def consigna_7(maze, path, start, goal, title=\"Maze Solver\"):\n",
        "  # Convert maze to numpy array\n",
        "  maze_array = np.array(maze)\n",
        "  rows = len(maze_array)\n",
        "  cols = len(maze_array[0])\n",
        "  fig, ax = plt.subplots(figsize=(6,6))\n",
        "  ax.imshow(maze_array, cmap=\"binary\") # black walls, white paths\n",
        "  # Draw grid\n",
        "  ax.set_xticks(np.arange(-0.5, cols, 1))\n",
        "  ax.set_yticks(np.arange(-0.5, rows, 1))\n",
        "  ax.grid(color='gray', linestyle='-', linewidth=0.5)\n",
        "  # Path line\n",
        "  if path:\n",
        "    xs = [y for x, y in path]\n",
        "    ys = [x for x, y in path]\n",
        "    ax.plot(xs, ys, color=\"cyan\", linewidth=3, marker='o', markersize=5)\n",
        "    # Mark start and end\n",
        "    ax.text(start[1], start[0], 'S', color='green', fontsize=12, fontweight='bold', ha='center', va='center')\n",
        "    ax.text(goal[1], goal[0], 'E', color='red', fontsize=12, fontweight='bold', ha='center', va='center')\n",
        "    # Remove axes\n",
        "    ax.set_xticklabels([])\n",
        "    ax.set_yticklabels([])\n",
        "    ax.set_xticks([])\n",
        "    ax.set_yticks([])\n",
        "    # Title\n",
        "    ax.set_title(\"Laberinto con camino\")\n",
        "    plt.show()"
      ],
      "metadata": {
        "id": "bEpQOU9vsgfU"
      },
      "execution_count": null,
      "outputs": []
    },
    {
      "cell_type": "markdown",
      "source": [
        "Consigna 8 – Generador de laberintos aleatorios // Task 8- Random Maze Generator"
      ],
      "metadata": {
        "id": "ajmkUVyAsowl"
      }
    },
    {
      "cell_type": "code",
      "source": [
        "def consigna_8(rows, cols, start, goal):\n",
        "    # Ensure odd dimensions for a symmetrical structure\n",
        "    if rows % 2 == 0: rows += 1\n",
        "    if cols % 2 == 0: cols += 1\n",
        "\n",
        "    # Initialize maze with all walls (1)\n",
        "    maze = [[1 for _ in range(cols)] for _ in range(rows)]\n",
        "    directions = [(-1, 0), (1, 0), (0, -1), (0, 1)]\n",
        "\n",
        "    def in_bounds(x, y):\n",
        "        # Only carve inside (leave 1-cell border of walls)\n",
        "        return 1 <= x < rows - 1 and 1 <= y < cols - 1\n",
        "\n",
        "    def count_open_neighbors(x, y):\n",
        "        #Count how many open neighbors the cell has (avoid over-carving)\n",
        "        count = 0\n",
        "        for dx, dy in directions:\n",
        "            nx, ny = x + dx, y + dy\n",
        "            if in_bounds(nx, ny) and maze[nx][ny] == 0:\n",
        "                count += 1\n",
        "        return count\n",
        "\n",
        "    def carve(x, y):\n",
        "        #Recursibe backtracker\n",
        "        maze[x][y] = 0\n",
        "        random.shuffle(directions)\n",
        "        for dx, dy in directions:\n",
        "            nx, ny = x + dx, y + dy\n",
        "            if in_bounds(nx, ny) and maze[nx][ny] == 1 and count_open_neighbors(nx, ny) <= 1:\n",
        "                carve(nx, ny)\n",
        "\n",
        "    #Generate maze inside\n",
        "    carve(1, 1)\n",
        "\n",
        "    #Keep the full border solid\n",
        "    for i in range(rows):\n",
        "        maze[i][0] = maze[i][cols - 1] = 1\n",
        "    for j in range(cols):\n",
        "        maze[0][j] = maze[rows - 1][j] = 1\n",
        "\n",
        "    #Make sure start and end goal are 0\n",
        "    maze[start[0]][start[1]] = 0\n",
        "    maze[goal[0]][goal[1]] = 0\n",
        "\n",
        "    # Ensure goal is reachable (in case it's isolated)\n",
        "    if all(maze[goal[0] + dx][goal[1] + dy] == 1\n",
        "           for dx, dy in directions if in_bounds(goal[0] + dx, goal[1] + dy)):\n",
        "        maze[goal[0] - 1][goal[1]] = 0\n",
        "\n",
        "    return maze\n"
      ],
      "metadata": {
        "id": "gr7JQhXYtSCY"
      },
      "execution_count": null,
      "outputs": []
    },
    {
      "cell_type": "markdown",
      "source": [
        "##**User menu**"
      ],
      "metadata": {
        "id": "I0iZyQG0tWEJ"
      }
    },
    {
      "cell_type": "code",
      "source": [
        "def main():\n",
        "    print(\"Maze Solver\")\n",
        "    rows = int(input(\"Enter number of rows: \"))\n",
        "    cols = int(input(\"Enter number of columns: \"))\n",
        "\n",
        "    start = (1,1)\n",
        "    goal = (rows - 1, cols - 1)\n",
        "    maze = consigna_8(rows, cols, start, goal)\n",
        "\n",
        "    print(\"Start cell:\", maze[start[0]][start[1]])\n",
        "    print(\"Goal cell:\", maze[goal[0]][goal[1]])\n",
        "\n",
        "    print(\"\\nGenerated maze:\")\n",
        "    for r in maze:\n",
        "        print(r)\n",
        "\n",
        "    print(\"\\nChoose algorithm:\")\n",
        "    print(\"1. DFS\")\n",
        "    print(\"2. BFS\")\n",
        "    print(\"3. Dijkstra\")\n",
        "    print(\"4. A*\")\n",
        "    print(\"5. Wall-Follower\")\n",
        "    print(\"6. Backtracking\")\n",
        "\n",
        "    choice = input(\"Select an option: \")\n",
        "\n",
        "    # use a copy each time to avoid overlap\n",
        "    maze_copy = []\n",
        "    for row in maze:\n",
        "      new_row = []\n",
        "      for cell in row:\n",
        "        new_row.append(cell)\n",
        "      maze_copy.append(new_row)\n",
        "\n",
        "    if choice == \"1\":\n",
        "        path = consigna_1(maze_copy, start, goal)\n",
        "        title = \"DFS Solver\"\n",
        "    elif choice == \"2\":\n",
        "        path = consigna_2(maze_copy, start, goal)\n",
        "        title = \"BFS Solver\"\n",
        "    elif choice == \"3\":\n",
        "        path = consigna_3(maze_copy, start, goal)\n",
        "        title = \"Dijkstra Solver\"\n",
        "    elif choice == \"4\":\n",
        "        path = consigna_4(maze_copy, start, goal)\n",
        "        title = \"A* Solver\"\n",
        "    elif choice == \"5\":\n",
        "        path = consigna_5(maze_copy, start, goal, right_hand=True)\n",
        "        title = \"Wall-Follower\"\n",
        "    elif choice == \"6\":\n",
        "        path = consigna_6(maze_copy, start, goal)\n",
        "        title = \"Backtracking Solver\"\n",
        "    else:\n",
        "        print(\"Invalid option.\")\n",
        "        return\n",
        "\n",
        "    if path:\n",
        "        print(\"\\n Path found:\", path)\n",
        "    else:\n",
        "        print(\"\\n No path found.\")\n",
        "    consigna_7(maze, path, start, goal, title)\n",
        "\n",
        "\n",
        "if __name__ == \"__main__\":\n",
        "    main()"
      ],
      "metadata": {
        "colab": {
          "base_uri": "https://localhost:8080/",
          "height": 940
        },
        "id": "AsA6EppRtcTK",
        "outputId": "c8c3af9b-fffc-455a-c366-0b542492e6b6"
      },
      "execution_count": null,
      "outputs": [
        {
          "output_type": "stream",
          "name": "stdout",
          "text": [
            "Maze Solver\n",
            "Enter number of rows: 5\n",
            "Enter number of columns: 5\n",
            "Start cell: 0\n",
            "Goal cell: 0\n",
            "\n",
            "Generated maze:\n",
            "[1, 1, 1, 1, 1]\n",
            "[1, 0, 1, 0, 1]\n",
            "[1, 0, 0, 0, 1]\n",
            "[1, 1, 0, 1, 0]\n",
            "[1, 1, 1, 1, 0]\n",
            "\n",
            "Choose algorithm:\n",
            "1. DFS\n",
            "2. BFS\n",
            "3. Dijkstra\n",
            "4. A*\n",
            "5. Wall-Follower\n",
            "6. Backtracking\n",
            "Select an option: 5\n",
            "\n",
            " Path found: [(1, 1), (2, 1), (2, 2), (3, 2), (2, 2), (2, 3), (1, 3), (2, 3), (2, 2), (2, 1), (1, 1), (2, 1), (2, 2), (3, 2), (2, 2), (2, 3), (1, 3), (2, 3), (2, 2), (2, 1), (1, 1), (2, 1), (2, 2), (3, 2), (2, 2), (2, 3), (1, 3), (2, 3), (2, 2), (2, 1), (1, 1), (2, 1), (2, 2), (3, 2), (2, 2), (2, 3), (1, 3), (2, 3), (2, 2), (2, 1), (1, 1), (2, 1), (2, 2), (3, 2), (2, 2), (2, 3), (1, 3), (2, 3), (2, 2), (2, 1), (1, 1), (2, 1), (2, 2), (3, 2), (2, 2), (2, 3), (1, 3)]\n"
          ]
        },
        {
          "output_type": "display_data",
          "data": {
            "text/plain": [
              "<Figure size 600x600 with 1 Axes>"
            ],
            "image/png": "[encoded data removed]"
          },
          "metadata": {}
        }
      ]
    },
    {
      "cell_type": "markdown",
      "source": [
        "##**Comparaciones y Consideraciones:**\n"
      ],
      "metadata": {
        "id": "C0TLDp5ILsRi"
      }
    },
    {
      "cell_type": "markdown",
      "source": [
        "DFS vs BFS  \n",
        "\n",
        "Sin duda, el algoritmo BFS será más útil cuando no solo nos interese una posible solución, sino la más corta de todas las soluciones. Es cierto que BFS consume más memoria, pero en una situación ideal en la que los caminos posibles son relativamente cortos en comparación con el número de caminos, este algoritmo resultará más eficiente que DFS.\n",
        "\n",
        "\n",
        "DFS vs Backtracking\n",
        "\n",
        "Los dos algoritmos son muy parecidos, con la diferencia que el secundo va a retroceder si se topa con un callejón sin salida, retrocedendo al último punto cpn opciones.\n"
      ],
      "metadata": {
        "id": "nXPY4wkPL4Ah"
      }
    },
    {
      "cell_type": "code",
      "source": [],
      "metadata": {
        "id": "dM_XaIzLL3FI"
      },
      "execution_count": null,
      "outputs": []
    }
  ]
}